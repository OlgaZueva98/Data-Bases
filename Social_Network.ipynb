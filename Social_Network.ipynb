{
 "cells": [
  {
   "cell_type": "markdown",
   "metadata": {},
   "source": [
    "<h1 align=\"center\"> Heroes of Might and Magic (Ashan)</h1>"
   ]
  },
  {
   "cell_type": "markdown",
   "metadata": {},
   "source": [
    "<h1 align=\"center\">Social Network</h1>"
   ]
  },
  {
   "cell_type": "code",
   "execution_count": 6,
   "metadata": {},
   "outputs": [
    {
     "name": "stdout",
     "output_type": "stream",
     "text": [
      "Requirement already satisfied: neo4j in c:\\users\\olga\\anaconda3\\lib\\site-packages (1.7.6)\n",
      "Requirement already satisfied: neotime~=1.7.1 in c:\\users\\olga\\anaconda3\\lib\\site-packages (from neo4j) (1.7.4)\n",
      "Requirement already satisfied: neobolt~=1.7.15 in c:\\users\\olga\\anaconda3\\lib\\site-packages (from neo4j) (1.7.16)\n",
      "Requirement already satisfied: pytz in c:\\users\\olga\\anaconda3\\lib\\site-packages (from neotime~=1.7.1->neo4j) (2018.4)\n",
      "Requirement already satisfied: six in c:\\users\\olga\\anaconda3\\lib\\site-packages (from neotime~=1.7.1->neo4j) (1.11.0)\n"
     ]
    },
    {
     "name": "stderr",
     "output_type": "stream",
     "text": [
      "You are using pip version 10.0.1, however version 20.0.2 is available.\n",
      "You should consider upgrading via the 'python -m pip install --upgrade pip' command.\n"
     ]
    }
   ],
   "source": [
    "!pip install neo4j"
   ]
  },
  {
   "cell_type": "code",
   "execution_count": 8,
   "metadata": {},
   "outputs": [],
   "source": [
    "import pandas as pd\n",
    "import nltk\n",
    "from neo4j import GraphDatabase"
   ]
  },
  {
   "cell_type": "markdown",
   "metadata": {},
   "source": [
    "# Data"
   ]
  },
  {
   "cell_type": "markdown",
   "metadata": {},
   "source": [
    "<img src=\"images/network.jpg\">"
   ]
  },
  {
   "cell_type": "markdown",
   "metadata": {},
   "source": [
    "Data sources: Might&Magic: Elemental Guardians, Sœurs de Sang (comic), Heroes VI, Heroes VI: Pirates of the Savage Sea, Heroes VI: Danse Macabre, Might&Magic: Duel of Champions, Might&Magic X: Legacy, Heroes VI: Shades of Darkness, Heroes VII: Trial by Fire, Might&Magic: Heroes Online, Heroes VII: Tales of Ten Years War (story), Heroes VII, Clash of Heroes, Heroes V, Heroes V: Hammers of Fate, Heroes V: Tribes of the East, Dark Messiah of Might&Magic.\n"
   ]
  },
  {
   "cell_type": "code",
   "execution_count": 55,
   "metadata": {},
   "outputs": [],
   "source": [
    "nodes_df = pd.read_excel('heroes_nodes.xlsx')"
   ]
  },
  {
   "cell_type": "code",
   "execution_count": 12,
   "metadata": {},
   "outputs": [
    {
     "data": {
      "text/html": [
       "<div>\n",
       "<style scoped>\n",
       "    .dataframe tbody tr th:only-of-type {\n",
       "        vertical-align: middle;\n",
       "    }\n",
       "\n",
       "    .dataframe tbody tr th {\n",
       "        vertical-align: top;\n",
       "    }\n",
       "\n",
       "    .dataframe thead th {\n",
       "        text-align: right;\n",
       "    }\n",
       "</style>\n",
       "<table border=\"1\" class=\"dataframe\">\n",
       "  <thead>\n",
       "    <tr style=\"text-align: right;\">\n",
       "      <th></th>\n",
       "      <th>Hero</th>\n",
       "      <th>Alias</th>\n",
       "      <th>Faction</th>\n",
       "      <th>Race</th>\n",
       "      <th>Gender</th>\n",
       "      <th>Location</th>\n",
       "      <th>Affiliation</th>\n",
       "      <th>Occupation</th>\n",
       "      <th>Status</th>\n",
       "      <th>Last_Appearance</th>\n",
       "    </tr>\n",
       "  </thead>\n",
       "  <tbody>\n",
       "    <tr>\n",
       "      <th>0</th>\n",
       "      <td>Acamas</td>\n",
       "      <td>NaN</td>\n",
       "      <td>Stronghold</td>\n",
       "      <td>Cyclops</td>\n",
       "      <td>Male</td>\n",
       "      <td>Pao Islands</td>\n",
       "      <td>NaN</td>\n",
       "      <td>NaN</td>\n",
       "      <td>Alive</td>\n",
       "      <td>Heroes VI</td>\n",
       "    </tr>\n",
       "    <tr>\n",
       "      <th>1</th>\n",
       "      <td>Agar</td>\n",
       "      <td>NaN</td>\n",
       "      <td>Academy</td>\n",
       "      <td>Wizard</td>\n",
       "      <td>Male</td>\n",
       "      <td>Seven Cities</td>\n",
       "      <td>NaN</td>\n",
       "      <td>NaN</td>\n",
       "      <td>Dead</td>\n",
       "      <td>Mentioned</td>\n",
       "    </tr>\n",
       "    <tr>\n",
       "      <th>2</th>\n",
       "      <td>Agbeth</td>\n",
       "      <td>NaN</td>\n",
       "      <td>Dungeon</td>\n",
       "      <td>Dark Elf</td>\n",
       "      <td>Male</td>\n",
       "      <td>Ygg-Chall</td>\n",
       "      <td>NaN</td>\n",
       "      <td>NaN</td>\n",
       "      <td>Dead</td>\n",
       "      <td>Heroes VII: Trial by Fire</td>\n",
       "    </tr>\n",
       "    <tr>\n",
       "      <th>3</th>\n",
       "      <td>Aguirre</td>\n",
       "      <td>NaN</td>\n",
       "      <td>Necropolis</td>\n",
       "      <td>Vampire</td>\n",
       "      <td>Male</td>\n",
       "      <td>Seven Cities</td>\n",
       "      <td>NaN</td>\n",
       "      <td>Mentor</td>\n",
       "      <td>Dead</td>\n",
       "      <td>Heroes VI</td>\n",
       "    </tr>\n",
       "    <tr>\n",
       "      <th>4</th>\n",
       "      <td>Ahribban</td>\n",
       "      <td>NaN</td>\n",
       "      <td>Inferno</td>\n",
       "      <td>Demon</td>\n",
       "      <td>Male</td>\n",
       "      <td>Sheogh</td>\n",
       "      <td>NaN</td>\n",
       "      <td>Prince of Hate</td>\n",
       "      <td>Slain</td>\n",
       "      <td>Heroes VI</td>\n",
       "    </tr>\n",
       "  </tbody>\n",
       "</table>\n",
       "</div>"
      ],
      "text/plain": [
       "       Hero Alias     Faction      Race Gender      Location Affiliation  \\\n",
       "0    Acamas   NaN  Stronghold   Cyclops   Male   Pao Islands         NaN   \n",
       "1      Agar   NaN     Academy    Wizard   Male  Seven Cities         NaN   \n",
       "2    Agbeth   NaN     Dungeon  Dark Elf   Male     Ygg-Chall         NaN   \n",
       "3   Aguirre   NaN  Necropolis   Vampire   Male  Seven Cities         NaN   \n",
       "4  Ahribban   NaN     Inferno     Demon   Male        Sheogh         NaN   \n",
       "\n",
       "       Occupation Status            Last_Appearance  \n",
       "0             NaN  Alive                  Heroes VI  \n",
       "1             NaN   Dead                  Mentioned  \n",
       "2             NaN   Dead  Heroes VII: Trial by Fire  \n",
       "3          Mentor   Dead                  Heroes VI  \n",
       "4  Prince of Hate  Slain                  Heroes VI  "
      ]
     },
     "execution_count": 12,
     "metadata": {},
     "output_type": "execute_result"
    }
   ],
   "source": [
    "nodes_df.head()"
   ]
  },
  {
   "cell_type": "code",
   "execution_count": 56,
   "metadata": {},
   "outputs": [],
   "source": [
    "edges_df = pd.read_excel('heroes_relations.xlsx')"
   ]
  },
  {
   "cell_type": "code",
   "execution_count": 14,
   "metadata": {},
   "outputs": [
    {
     "data": {
      "text/html": [
       "<div>\n",
       "<style scoped>\n",
       "    .dataframe tbody tr th:only-of-type {\n",
       "        vertical-align: middle;\n",
       "    }\n",
       "\n",
       "    .dataframe tbody tr th {\n",
       "        vertical-align: top;\n",
       "    }\n",
       "\n",
       "    .dataframe thead th {\n",
       "        text-align: right;\n",
       "    }\n",
       "</style>\n",
       "<table border=\"1\" class=\"dataframe\">\n",
       "  <thead>\n",
       "    <tr style=\"text-align: right;\">\n",
       "      <th></th>\n",
       "      <th>Hero_1</th>\n",
       "      <th>Hero_2</th>\n",
       "      <th>Relation</th>\n",
       "      <th>State</th>\n",
       "      <th>Since</th>\n",
       "      <th>Previous</th>\n",
       "    </tr>\n",
       "  </thead>\n",
       "  <tbody>\n",
       "    <tr>\n",
       "      <th>0</th>\n",
       "      <td>Acamas</td>\n",
       "      <td>Sandor Griffin</td>\n",
       "      <td>ally</td>\n",
       "      <td>NaN</td>\n",
       "      <td>NaN</td>\n",
       "      <td>NaN</td>\n",
       "    </tr>\n",
       "    <tr>\n",
       "      <th>1</th>\n",
       "      <td>Agar</td>\n",
       "      <td>Falagar</td>\n",
       "      <td>grandfather</td>\n",
       "      <td>NaN</td>\n",
       "      <td>NaN</td>\n",
       "      <td>NaN</td>\n",
       "    </tr>\n",
       "    <tr>\n",
       "      <th>2</th>\n",
       "      <td>Agar</td>\n",
       "      <td>Alagar</td>\n",
       "      <td>father</td>\n",
       "      <td>NaN</td>\n",
       "      <td>NaN</td>\n",
       "      <td>NaN</td>\n",
       "    </tr>\n",
       "    <tr>\n",
       "      <th>3</th>\n",
       "      <td>Agbeth</td>\n",
       "      <td>Hangvul</td>\n",
       "      <td>enemy</td>\n",
       "      <td>NaN</td>\n",
       "      <td>NaN</td>\n",
       "      <td>NaN</td>\n",
       "    </tr>\n",
       "    <tr>\n",
       "      <th>4</th>\n",
       "      <td>Agbeth</td>\n",
       "      <td>Ranleth</td>\n",
       "      <td>twin_brother</td>\n",
       "      <td>NaN</td>\n",
       "      <td>NaN</td>\n",
       "      <td>NaN</td>\n",
       "    </tr>\n",
       "  </tbody>\n",
       "</table>\n",
       "</div>"
      ],
      "text/plain": [
       "   Hero_1          Hero_2      Relation State Since Previous\n",
       "0  Acamas  Sandor Griffin          ally   NaN   NaN      NaN\n",
       "1    Agar         Falagar   grandfather   NaN   NaN      NaN\n",
       "2    Agar          Alagar        father   NaN   NaN      NaN\n",
       "3  Agbeth         Hangvul         enemy   NaN   NaN      NaN\n",
       "4  Agbeth         Ranleth  twin_brother   NaN   NaN      NaN"
      ]
     },
     "execution_count": 14,
     "metadata": {},
     "output_type": "execute_result"
    }
   ],
   "source": [
    "edges_df.head()"
   ]
  },
  {
   "cell_type": "markdown",
   "metadata": {},
   "source": [
    "## Neo4j graph"
   ]
  },
  {
   "cell_type": "code",
   "execution_count": 9,
   "metadata": {},
   "outputs": [],
   "source": [
    "driver = GraphDatabase.driver(\"bolt://localhost:7687\", auth=(\"neo4j\", \"Asha-uses-all\")) "
   ]
  },
  {
   "cell_type": "code",
   "execution_count": 10,
   "metadata": {},
   "outputs": [],
   "source": [
    "session = driver.session()"
   ]
  },
  {
   "cell_type": "markdown",
   "metadata": {},
   "source": [
    "## Nodes"
   ]
  },
  {
   "cell_type": "code",
   "execution_count": 293,
   "metadata": {},
   "outputs": [
    {
     "data": {
      "text/plain": [
       "array(['Stronghold', 'Academy', 'Dungeon', 'Necropolis', 'Inferno',\n",
       "       'Haven', 'Sanctuary', 'Sylvan', 'Deity', 'Fortress', 'Academy ',\n",
       "       'Shantiri'], dtype=object)"
      ]
     },
     "execution_count": 293,
     "metadata": {},
     "output_type": "execute_result"
    }
   ],
   "source": [
    "nodes_df.Faction.unique()"
   ]
  },
  {
   "cell_type": "code",
   "execution_count": 57,
   "metadata": {},
   "outputs": [],
   "source": [
    "nodes = [] \n",
    "for idx, row in nodes_df.iterrows(): \n",
    "    rows = [row.Hero, row.Alias, row.Faction, row.Race, row.Gender, row.Location, row.Affiliation, row.Occupation, row.Status,\n",
    "            row.Last_Appearance] \n",
    "    nodes.append(rows) "
   ]
  },
  {
   "cell_type": "code",
   "execution_count": 58,
   "metadata": {},
   "outputs": [],
   "source": [
    "for l in nodes:\n",
    "    query = 'CREATE (f:{} {{ name: \"{}\", alias: \"{}\", race: \"{}\", gender: \"{}\", location: \"{}\", affiliation: \"{}\", occupation: \"{}\", status: \"{}\",  last_appearance: \"{}\"}})'.format(l[2], l[0], l[1], l[3], l[4], l[5], l[6], l[7], l[8], l[9])\n",
    "    session.run(query)"
   ]
  },
  {
   "cell_type": "markdown",
   "metadata": {},
   "source": [
    "## Relations"
   ]
  },
  {
   "cell_type": "code",
   "execution_count": 17,
   "metadata": {},
   "outputs": [
    {
     "data": {
      "text/plain": [
       "array(['ally', 'grandfather', 'father', 'enemy', 'twin_brother', 'rival',\n",
       "       'master', 'servant', 'brother', 'son', 'friend', 'nephew',\n",
       "       'brother_in_law', 'uncle', 'killed', 'husband', 'vassal',\n",
       "       'defeated', 'suzerain', 'half_brother', 'colleague', 'teacher',\n",
       "       'wounded', 'cursed', 'cousin', 'half_sister', 'daughter',\n",
       "       'mistress', 'grand_nephew', 'twin_sister', 'sister', 'lover',\n",
       "       'foster_mother', 'granddaughter', 'worships', 'adviser',\n",
       "       'disciple', 'companion', 'mother', 'executed', 'grandson',\n",
       "       'banished', 'suppressed', 'descendant', 'rebelled', 'acquaintance',\n",
       "       'spoke_to', 'created', 'friendly_enemy', 'imprisoned', 'student',\n",
       "       'reverenced', 'sought_to_enthrone', 'fiancee', 'father_in_law',\n",
       "       'wife', 'niece', 'aunt', 'sister_in_law', 'fiance', 'son_in_law',\n",
       "       'crush', 'adoptive_son', 'grandmother', 'dethroned', 'freed',\n",
       "       'ancestor', 'ex', 'trainer', 'ward', 'healed', 'follower',\n",
       "       'gratitude', 'comrade', 'disliked', 'captured', 'mentor',\n",
       "       'apprentice', 'noncompliance', 'adoptive_daughter',\n",
       "       'adoptive_sister', 'indifferent', 'hostage', 'agent', 'tribesman',\n",
       "       'avatar', 'protector', 'contractor', 'foster_father', 'customer',\n",
       "       'step_father', 'poisoned', 'grand_aunt'], dtype=object)"
      ]
     },
     "execution_count": 17,
     "metadata": {},
     "output_type": "execute_result"
    }
   ],
   "source": [
    "edges_df.Relation.unique()"
   ]
  },
  {
   "cell_type": "code",
   "execution_count": 59,
   "metadata": {},
   "outputs": [],
   "source": [
    "relations = []\n",
    "for idx, row in edges_df.iterrows(): \n",
    "    rows = [row.Hero_1, row.Hero_2, row.Relation, row.State, row.Since, row.Previous] \n",
    "    relations.append(rows) "
   ]
  },
  {
   "cell_type": "code",
   "execution_count": 60,
   "metadata": {},
   "outputs": [],
   "source": [
    "for l in relations:    \n",
    "    query = \"MATCH (n) WHERE n.name='{}' MATCH(m) WHERE m.name='{}' CREATE (n)-[r:{} {{state: '{}', since: '{}', previous: '{}' }}]->(m)\".format(l[0], l[1], l[2], l[3], l[4], l[5])\n",
    "    session.run(query)"
   ]
  },
  {
   "cell_type": "markdown",
   "metadata": {},
   "source": [
    "# Functions"
   ]
  },
  {
   "cell_type": "markdown",
   "metadata": {},
   "source": [
    "<h3>Создать новый узел</h3>"
   ]
  },
  {
   "cell_type": "code",
   "execution_count": 7,
   "metadata": {},
   "outputs": [],
   "source": [
    "#преобразовать строку запроса\n",
    "def convert_properties(p): \n",
    "    req = ''\n",
    "    for k, v in p.items():\n",
    "        if v == None or v.strip() == '':\n",
    "            req += str(k) + ': ' + '\"nan\"' + ', '\n",
    "        else:\n",
    "            req += str(k.replace(\"  \", \" \").strip()) + ': ' + '\"%s\"' % v.replace(\"  \", \" \").strip() + ', '\n",
    "    return '{' + req[:-1].strip(', ') + '}'"
   ]
  },
  {
   "cell_type": "code",
   "execution_count": 10,
   "metadata": {},
   "outputs": [
    {
     "data": {
      "text/plain": [
       "'{name: \"Fluffy\", race: \"Cerberus\", since: \"nan\"}'"
      ]
     },
     "execution_count": 10,
     "metadata": {},
     "output_type": "execute_result"
    }
   ],
   "source": [
    "convert_properties({'name': 'Fluffy ', 'race': 'Cerberus', 'since': ' '})"
   ]
  },
  {
   "cell_type": "code",
   "execution_count": 11,
   "metadata": {},
   "outputs": [],
   "source": [
    "def add_node(faction, properties={}):\n",
    "    node = []\n",
    "    query = 'MERGE (f:{} {})'.format(faction, convert_properties(properties))\n",
    "    session.run(query)\n",
    "    res = session.run('match (n) where n.name = \"{}\" return n'.format(properties['name']))\n",
    "    for r in res:\n",
    "        for d in r:\n",
    "            node.append(d)\n",
    "    print(f'Successfully created: {node}')"
   ]
  },
  {
   "cell_type": "code",
   "execution_count": 256,
   "metadata": {},
   "outputs": [
    {
     "name": "stdout",
     "output_type": "stream",
     "text": [
      "Successfully created: [<Record n=<Node id=112 labels={'Inferno'} properties={'race': 'Cerberus', 'name': 'Fluffy'}>>]\n"
     ]
    }
   ],
   "source": [
    "#example\n",
    "add_node('Inferno', {'name': 'Fluffy', 'race': 'Cerberus'})"
   ]
  },
  {
   "cell_type": "markdown",
   "metadata": {},
   "source": [
    "<h3>Создать новое отношение</h3>"
   ]
  },
  {
   "cell_type": "code",
   "execution_count": 26,
   "metadata": {},
   "outputs": [],
   "source": [
    "def add_relations(rel, names={}, properties={}):\n",
    "    relations = []\n",
    "    for k, v in names.items():\n",
    "        query = \"MATCH (n) WHERE n.name='{}' MATCH(m) WHERE m.name='{}' CREATE (n)-[r:{} {}]->(m) return n.name, r, m.name\".format(\n",
    "            k, v, rel, convert_properties(properties))\n",
    "        res = session.run(query)\n",
    "        for r in res:\n",
    "            for d in r:\n",
    "                relations.append(d)\n",
    "    print(f'Successfully created: {relations}')   "
   ]
  },
  {
   "cell_type": "code",
   "execution_count": 317,
   "metadata": {},
   "outputs": [
    {
     "name": "stdout",
     "output_type": "stream",
     "text": [
      "Successfully created: ['Fluffy', <Relationship id=7918 nodes=(<Node id=112 labels=set() properties={}>, <Node id=219 labels=set() properties={}>) type='pet' properties={'state': 'friend', 'since': 'unknown'}>, 'Lorhish']\n"
     ]
    }
   ],
   "source": [
    "#example\n",
    "add_relations('pet', {'Fluffy': 'Lorhish'}, {'state': 'friend', 'since': 'unknown'})"
   ]
  },
  {
   "cell_type": "markdown",
   "metadata": {},
   "source": [
    "<h3>Изменить свойства узла</h3>"
   ]
  },
  {
   "cell_type": "code",
   "execution_count": 25,
   "metadata": {},
   "outputs": [],
   "source": [
    "def update_node_properties(nodes, properties):\n",
    "    new_properties = []\n",
    "    for node in nodes:\n",
    "        query = \"MATCH (n) WHERE n.name = '{}' SET n = {} RETURN n\".format(node, convert_properties(properties))\n",
    "        res = session.run(query)\n",
    "        for r in res:\n",
    "            for d in r:\n",
    "                new_properties.append(d)\n",
    "    print(f'Successfully updated: {new_properties}')"
   ]
  },
  {
   "cell_type": "code",
   "execution_count": 281,
   "metadata": {},
   "outputs": [
    {
     "name": "stdout",
     "output_type": "stream",
     "text": [
      "Successfully updated: [<Node id=112 labels={'Inferno'} properties={'race': 'Dog', 'name': 'Fluffy', 'status': 'Alive'}>]\n"
     ]
    }
   ],
   "source": [
    "#example\n",
    "update_node_properties(['Fluffy'], {'name': 'Fluffy', 'race': 'Dog', 'status': 'Alive'})"
   ]
  },
  {
   "cell_type": "markdown",
   "metadata": {},
   "source": [
    "<h3>Изменить свойства отношения</h3>"
   ]
  },
  {
   "cell_type": "code",
   "execution_count": 24,
   "metadata": {},
   "outputs": [],
   "source": [
    "def update_relation_properties(rel, names={}, properties={}):\n",
    "    new_relations = []\n",
    "    for k, v in names.items():\n",
    "        #иначе - KeyError: name\n",
    "        query = \"MATCH (n {name:\" + \"'{}'\".format(k) + \"})-[r:\" + \"{}\".format(rel) + \"]->(m {name:\" +\"'{}'\".format(v) + \"}) SET r = \" + \"{} RETURN r\".format(convert_properties(properties))\n",
    "        res = session.run(query)\n",
    "        for r in res:\n",
    "            for d in r:\n",
    "                new_relations.append(d)\n",
    "    print(f'Successfully updated: {new_relations}')"
   ]
  },
  {
   "cell_type": "code",
   "execution_count": 302,
   "metadata": {},
   "outputs": [
    {
     "name": "stdout",
     "output_type": "stream",
     "text": [
      "Successfully updated: [<Relationship id=7931 nodes=(<Node id=112 labels=set() properties={}>, <Node id=219 labels=set() properties={}>) type='pet' properties={'since': 'Harry Potter'}>]\n"
     ]
    }
   ],
   "source": [
    "#example\n",
    "update_relation_properties('pet', {'Fluffy': 'Lorhish'}, {'since': 'Harry Potter'})"
   ]
  },
  {
   "cell_type": "markdown",
   "metadata": {},
   "source": [
    "<h3>Удалить отношение</h3>"
   ]
  },
  {
   "cell_type": "code",
   "execution_count": 36,
   "metadata": {},
   "outputs": [],
   "source": [
    "def delete_relations(rel, names={}):\n",
    "    for k, v in names.items():\n",
    "        #иначе - 'KeyError: name'\n",
    "        query = \"MATCH (n {name:\" + \"'{}'\".format(k) + \"})-[r:\" + \"{}\".format(rel) + \"]->(m {name:\" +\"'{}'\".format(v) + \"}) DELETE r\"\n",
    "    session.run(query)\n",
    "    print('Successfully deleted')"
   ]
  },
  {
   "cell_type": "code",
   "execution_count": 320,
   "metadata": {},
   "outputs": [
    {
     "name": "stdout",
     "output_type": "stream",
     "text": [
      "Successfully deleted\n"
     ]
    }
   ],
   "source": [
    "#example\n",
    "delete_relations('knows', {'Fluffy': 'Lorhish'})"
   ]
  },
  {
   "cell_type": "markdown",
   "metadata": {},
   "source": [
    "<h3>Изменить отношение</h3>"
   ]
  },
  {
   "cell_type": "code",
   "execution_count": 35,
   "metadata": {},
   "outputs": [],
   "source": [
    "def update_relations(prev_rel, new_rel, names={}):\n",
    "    for k, v in names.items():\n",
    "        query = \"MATCH (n) WHERE n.name='{}' MATCH(m) WHERE m.name='{}' CREATE (n)-[r:{}]->(m)\".format(\n",
    "            k, v, new_rel)   \n",
    "        session.run(query)\n",
    "    delete_relations(prev_rel, names)\n",
    "    print('Successfully updated') "
   ]
  },
  {
   "cell_type": "code",
   "execution_count": 319,
   "metadata": {},
   "outputs": [
    {
     "name": "stdout",
     "output_type": "stream",
     "text": [
      "Successfully deleted\n",
      "Successfully updated\n"
     ]
    }
   ],
   "source": [
    "#example\n",
    "update_relations('pet', 'knows', {'Fluffy': 'Lorhish'})"
   ]
  },
  {
   "cell_type": "markdown",
   "metadata": {},
   "source": [
    "<h3>Удалить узел по свойствам</h3>"
   ]
  },
  {
   "cell_type": "code",
   "execution_count": 328,
   "metadata": {},
   "outputs": [],
   "source": [
    "def delete_node(properties):\n",
    "    query = 'MATCH (n {}) DELETE n'.format(convert_properties(properties))\n",
    "    res = session.run(query)\n",
    "    for r in res:\n",
    "        print(r)\n",
    "    print('Successfully deleted')"
   ]
  },
  {
   "cell_type": "code",
   "execution_count": 329,
   "metadata": {
    "collapsed": true
   },
   "outputs": [
    {
     "ename": "ConstraintError",
     "evalue": "Cannot delete node<25>, because it still has relationships. To delete this node, you must first delete its relationships.",
     "output_type": "error",
     "traceback": [
      "\u001b[1;31m---------------------------------------------------------------------------\u001b[0m",
      "\u001b[1;31mConstraintError\u001b[0m                           Traceback (most recent call last)",
      "\u001b[1;32m<ipython-input-329-23749a916c19>\u001b[0m in \u001b[0;36m<module>\u001b[1;34m()\u001b[0m\n\u001b[0;32m      1\u001b[0m \u001b[1;31m#example\u001b[0m\u001b[1;33m\u001b[0m\u001b[1;33m\u001b[0m\u001b[0m\n\u001b[1;32m----> 2\u001b[1;33m \u001b[0mdelete_node\u001b[0m\u001b[1;33m(\u001b[0m\u001b[1;33m{\u001b[0m\u001b[1;34m'name'\u001b[0m\u001b[1;33m:\u001b[0m \u001b[1;34m'Fluffy'\u001b[0m\u001b[1;33m,\u001b[0m \u001b[1;34m'race'\u001b[0m\u001b[1;33m:\u001b[0m \u001b[1;34m'Dog'\u001b[0m\u001b[1;33m}\u001b[0m\u001b[1;33m)\u001b[0m\u001b[1;33m\u001b[0m\u001b[0m\n\u001b[0m",
      "\u001b[1;32m<ipython-input-328-0ffb846a77bd>\u001b[0m in \u001b[0;36mdelete_node\u001b[1;34m(properties)\u001b[0m\n\u001b[0;32m      2\u001b[0m     \u001b[0mquery\u001b[0m \u001b[1;33m=\u001b[0m \u001b[1;34m'MATCH (n {}) RETURN n'\u001b[0m\u001b[1;33m.\u001b[0m\u001b[0mformat\u001b[0m\u001b[1;33m(\u001b[0m\u001b[0mconvert_properties\u001b[0m\u001b[1;33m(\u001b[0m\u001b[0mproperties\u001b[0m\u001b[1;33m)\u001b[0m\u001b[1;33m)\u001b[0m\u001b[1;33m\u001b[0m\u001b[0m\n\u001b[0;32m      3\u001b[0m     \u001b[0mres\u001b[0m \u001b[1;33m=\u001b[0m \u001b[0msession\u001b[0m\u001b[1;33m.\u001b[0m\u001b[0mrun\u001b[0m\u001b[1;33m(\u001b[0m\u001b[0mquery\u001b[0m\u001b[1;33m)\u001b[0m\u001b[1;33m\u001b[0m\u001b[0m\n\u001b[1;32m----> 4\u001b[1;33m     \u001b[1;32mfor\u001b[0m \u001b[0mr\u001b[0m \u001b[1;32min\u001b[0m \u001b[0mres\u001b[0m\u001b[1;33m:\u001b[0m\u001b[1;33m\u001b[0m\u001b[0m\n\u001b[0m\u001b[0;32m      5\u001b[0m         \u001b[0mprint\u001b[0m\u001b[1;33m(\u001b[0m\u001b[0mr\u001b[0m\u001b[1;33m)\u001b[0m\u001b[1;33m\u001b[0m\u001b[0m\n\u001b[0;32m      6\u001b[0m     \u001b[0mprint\u001b[0m\u001b[1;33m(\u001b[0m\u001b[1;34m'Successfully deleted'\u001b[0m\u001b[1;33m)\u001b[0m\u001b[1;33m\u001b[0m\u001b[0m\n",
      "\u001b[1;32m~\\Anaconda3\\lib\\site-packages\\neo4j\\__init__.py\u001b[0m in \u001b[0;36mrecords\u001b[1;34m(self)\u001b[0m\n\u001b[0;32m    950\u001b[0m             \u001b[0mself\u001b[0m\u001b[1;33m.\u001b[0m\u001b[0m_session\u001b[0m\u001b[1;33m.\u001b[0m\u001b[0msend\u001b[0m\u001b[1;33m(\u001b[0m\u001b[1;33m)\u001b[0m\u001b[1;33m\u001b[0m\u001b[0m\n\u001b[0;32m    951\u001b[0m         \u001b[1;32mwhile\u001b[0m \u001b[0mattached\u001b[0m\u001b[1;33m(\u001b[0m\u001b[1;33m)\u001b[0m\u001b[1;33m:\u001b[0m\u001b[1;33m\u001b[0m\u001b[0m\n\u001b[1;32m--> 952\u001b[1;33m             \u001b[0mself\u001b[0m\u001b[1;33m.\u001b[0m\u001b[0m_session\u001b[0m\u001b[1;33m.\u001b[0m\u001b[0mfetch\u001b[0m\u001b[1;33m(\u001b[0m\u001b[1;33m)\u001b[0m\u001b[1;33m\u001b[0m\u001b[0m\n\u001b[0m\u001b[0;32m    953\u001b[0m             \u001b[1;32mwhile\u001b[0m \u001b[0mrecords\u001b[0m\u001b[1;33m:\u001b[0m\u001b[1;33m\u001b[0m\u001b[0m\n\u001b[0;32m    954\u001b[0m                 \u001b[1;32myield\u001b[0m \u001b[0mnext_record\u001b[0m\u001b[1;33m(\u001b[0m\u001b[1;33m)\u001b[0m\u001b[1;33m\u001b[0m\u001b[0m\n",
      "\u001b[1;32m~\\Anaconda3\\lib\\site-packages\\neo4j\\__init__.py\u001b[0m in \u001b[0;36mfetch\u001b[1;34m(self)\u001b[0m\n\u001b[0;32m    525\u001b[0m         \u001b[1;32mif\u001b[0m \u001b[0mself\u001b[0m\u001b[1;33m.\u001b[0m\u001b[0m_connection\u001b[0m\u001b[1;33m:\u001b[0m\u001b[1;33m\u001b[0m\u001b[0m\n\u001b[0;32m    526\u001b[0m             \u001b[1;32mtry\u001b[0m\u001b[1;33m:\u001b[0m\u001b[1;33m\u001b[0m\u001b[0m\n\u001b[1;32m--> 527\u001b[1;33m                 \u001b[0mdetail_count\u001b[0m\u001b[1;33m,\u001b[0m \u001b[0m_\u001b[0m \u001b[1;33m=\u001b[0m \u001b[0mself\u001b[0m\u001b[1;33m.\u001b[0m\u001b[0m_connection\u001b[0m\u001b[1;33m.\u001b[0m\u001b[0mfetch\u001b[0m\u001b[1;33m(\u001b[0m\u001b[1;33m)\u001b[0m\u001b[1;33m\u001b[0m\u001b[0m\n\u001b[0m\u001b[0;32m    528\u001b[0m             \u001b[1;32mexcept\u001b[0m \u001b[0mConnectionExpired\u001b[0m \u001b[1;32mas\u001b[0m \u001b[0merror\u001b[0m\u001b[1;33m:\u001b[0m\u001b[1;33m\u001b[0m\u001b[0m\n\u001b[0;32m    529\u001b[0m                 \u001b[1;32mraise\u001b[0m \u001b[0mSessionExpired\u001b[0m\u001b[1;33m(\u001b[0m\u001b[1;33m*\u001b[0m\u001b[0merror\u001b[0m\u001b[1;33m.\u001b[0m\u001b[0margs\u001b[0m\u001b[1;33m)\u001b[0m\u001b[1;33m\u001b[0m\u001b[0m\n",
      "\u001b[1;32m~\\Anaconda3\\lib\\site-packages\\neobolt\\direct.py\u001b[0m in \u001b[0;36mfetch\u001b[1;34m(self)\u001b[0m\n\u001b[0;32m    417\u001b[0m     \u001b[1;32mdef\u001b[0m \u001b[0mfetch\u001b[0m\u001b[1;33m(\u001b[0m\u001b[0mself\u001b[0m\u001b[1;33m)\u001b[0m\u001b[1;33m:\u001b[0m\u001b[1;33m\u001b[0m\u001b[0m\n\u001b[0;32m    418\u001b[0m         \u001b[1;32mtry\u001b[0m\u001b[1;33m:\u001b[0m\u001b[1;33m\u001b[0m\u001b[0m\n\u001b[1;32m--> 419\u001b[1;33m             \u001b[1;32mreturn\u001b[0m \u001b[0mself\u001b[0m\u001b[1;33m.\u001b[0m\u001b[0m_fetch\u001b[0m\u001b[1;33m(\u001b[0m\u001b[1;33m)\u001b[0m\u001b[1;33m\u001b[0m\u001b[0m\n\u001b[0m\u001b[0;32m    420\u001b[0m         \u001b[1;32mexcept\u001b[0m \u001b[0mself\u001b[0m\u001b[1;33m.\u001b[0m\u001b[0merror_handler\u001b[0m\u001b[1;33m.\u001b[0m\u001b[0mknown_errors\u001b[0m \u001b[1;32mas\u001b[0m \u001b[0merror\u001b[0m\u001b[1;33m:\u001b[0m\u001b[1;33m\u001b[0m\u001b[0m\n\u001b[0;32m    421\u001b[0m             \u001b[0mself\u001b[0m\u001b[1;33m.\u001b[0m\u001b[0merror_handler\u001b[0m\u001b[1;33m.\u001b[0m\u001b[0mhandle\u001b[0m\u001b[1;33m(\u001b[0m\u001b[0merror\u001b[0m\u001b[1;33m,\u001b[0m \u001b[0mself\u001b[0m\u001b[1;33m.\u001b[0m\u001b[0munresolved_address\u001b[0m\u001b[1;33m)\u001b[0m\u001b[1;33m\u001b[0m\u001b[0m\n",
      "\u001b[1;32m~\\Anaconda3\\lib\\site-packages\\neobolt\\direct.py\u001b[0m in \u001b[0;36m_fetch\u001b[1;34m(self)\u001b[0m\n\u001b[0;32m    459\u001b[0m         \u001b[1;32melif\u001b[0m \u001b[0msummary_signature\u001b[0m \u001b[1;33m==\u001b[0m \u001b[1;34mb\"\\x7F\"\u001b[0m\u001b[1;33m:\u001b[0m\u001b[1;33m\u001b[0m\u001b[0m\n\u001b[0;32m    460\u001b[0m             \u001b[0mlog_debug\u001b[0m\u001b[1;33m(\u001b[0m\u001b[1;34m\"[#%04X]  S: FAILURE %r\"\u001b[0m\u001b[1;33m,\u001b[0m \u001b[0mself\u001b[0m\u001b[1;33m.\u001b[0m\u001b[0mlocal_port\u001b[0m\u001b[1;33m,\u001b[0m \u001b[0msummary_metadata\u001b[0m\u001b[1;33m)\u001b[0m\u001b[1;33m\u001b[0m\u001b[0m\n\u001b[1;32m--> 461\u001b[1;33m             \u001b[0mresponse\u001b[0m\u001b[1;33m.\u001b[0m\u001b[0mon_failure\u001b[0m\u001b[1;33m(\u001b[0m\u001b[0msummary_metadata\u001b[0m \u001b[1;32mor\u001b[0m \u001b[1;33m{\u001b[0m\u001b[1;33m}\u001b[0m\u001b[1;33m)\u001b[0m\u001b[1;33m\u001b[0m\u001b[0m\n\u001b[0m\u001b[0;32m    462\u001b[0m         \u001b[1;32melse\u001b[0m\u001b[1;33m:\u001b[0m\u001b[1;33m\u001b[0m\u001b[0m\n\u001b[0;32m    463\u001b[0m             \u001b[1;32mraise\u001b[0m \u001b[0mProtocolError\u001b[0m\u001b[1;33m(\u001b[0m\u001b[1;34m\"Unexpected response message with signature %02X\"\u001b[0m \u001b[1;33m%\u001b[0m \u001b[0msummary_signature\u001b[0m\u001b[1;33m)\u001b[0m\u001b[1;33m\u001b[0m\u001b[0m\n",
      "\u001b[1;32m~\\Anaconda3\\lib\\site-packages\\neobolt\\direct.py\u001b[0m in \u001b[0;36mon_failure\u001b[1;34m(self, metadata)\u001b[0m\n\u001b[0;32m    753\u001b[0m         \u001b[1;32mif\u001b[0m \u001b[0mcallable\u001b[0m\u001b[1;33m(\u001b[0m\u001b[0mhandler\u001b[0m\u001b[1;33m)\u001b[0m\u001b[1;33m:\u001b[0m\u001b[1;33m\u001b[0m\u001b[0m\n\u001b[0;32m    754\u001b[0m             \u001b[0mhandler\u001b[0m\u001b[1;33m(\u001b[0m\u001b[1;33m)\u001b[0m\u001b[1;33m\u001b[0m\u001b[0m\n\u001b[1;32m--> 755\u001b[1;33m         \u001b[1;32mraise\u001b[0m \u001b[0mCypherError\u001b[0m\u001b[1;33m.\u001b[0m\u001b[0mhydrate\u001b[0m\u001b[1;33m(\u001b[0m\u001b[1;33m**\u001b[0m\u001b[0mmetadata\u001b[0m\u001b[1;33m)\u001b[0m\u001b[1;33m\u001b[0m\u001b[0m\n\u001b[0m\u001b[0;32m    756\u001b[0m \u001b[1;33m\u001b[0m\u001b[0m\n\u001b[0;32m    757\u001b[0m     \u001b[1;32mdef\u001b[0m \u001b[0mon_ignored\u001b[0m\u001b[1;33m(\u001b[0m\u001b[0mself\u001b[0m\u001b[1;33m,\u001b[0m \u001b[0mmetadata\u001b[0m\u001b[1;33m=\u001b[0m\u001b[1;32mNone\u001b[0m\u001b[1;33m)\u001b[0m\u001b[1;33m:\u001b[0m\u001b[1;33m\u001b[0m\u001b[0m\n",
      "\u001b[1;31mConstraintError\u001b[0m: Cannot delete node<25>, because it still has relationships. To delete this node, you must first delete its relationships."
     ]
    }
   ],
   "source": [
    "#example (worked in browser)\n",
    "delete_node({'name': 'Fluffy', 'race': 'Dog'})"
   ]
  },
  {
   "cell_type": "markdown",
   "metadata": {},
   "source": [
    "<h3>Вывести свойства узлов</h3>"
   ]
  },
  {
   "cell_type": "code",
   "execution_count": 153,
   "metadata": {},
   "outputs": [],
   "source": [
    "def get_node_properties(names):\n",
    "    properties = []\n",
    "    for name in names:\n",
    "        res = session.run('match (n) where n.name = \"{}\" return properties(n)'.format(name))\n",
    "        for r in res:\n",
    "            for d in r:\n",
    "                properties.append(d)\n",
    "    return properties"
   ]
  },
  {
   "cell_type": "code",
   "execution_count": 155,
   "metadata": {},
   "outputs": [
    {
     "data": {
      "text/html": [
       "<div>\n",
       "<style scoped>\n",
       "    .dataframe tbody tr th:only-of-type {\n",
       "        vertical-align: middle;\n",
       "    }\n",
       "\n",
       "    .dataframe tbody tr th {\n",
       "        vertical-align: top;\n",
       "    }\n",
       "\n",
       "    .dataframe thead th {\n",
       "        text-align: right;\n",
       "    }\n",
       "</style>\n",
       "<table border=\"1\" class=\"dataframe\">\n",
       "  <thead>\n",
       "    <tr style=\"text-align: right;\">\n",
       "      <th></th>\n",
       "      <th>name</th>\n",
       "      <th>affiliation</th>\n",
       "      <th>alias</th>\n",
       "      <th>gender</th>\n",
       "      <th>last_appearance</th>\n",
       "      <th>location</th>\n",
       "      <th>occupation</th>\n",
       "      <th>race</th>\n",
       "      <th>status</th>\n",
       "    </tr>\n",
       "  </thead>\n",
       "  <tbody>\n",
       "    <tr>\n",
       "      <th>1</th>\n",
       "      <td>Isabel Greyhound</td>\n",
       "      <td>nan</td>\n",
       "      <td>nan</td>\n",
       "      <td>Female</td>\n",
       "      <td>Heroes V: Tribes of the East</td>\n",
       "      <td>Holy Griffin Empire, Ygg-Chall, Holy Unicorn E...</td>\n",
       "      <td>Duchess, Queen</td>\n",
       "      <td>Human</td>\n",
       "      <td>Alive</td>\n",
       "    </tr>\n",
       "    <tr>\n",
       "      <th>0</th>\n",
       "      <td>Raelag</td>\n",
       "      <td>Dragon Knights</td>\n",
       "      <td>Agrael</td>\n",
       "      <td>Male</td>\n",
       "      <td>Heroes V: Hammers of Fate</td>\n",
       "      <td>Irollan, Tarlad, Sheogh, Ygg-Chall</td>\n",
       "      <td>Soulscar Clanlord, Shadowbrand Clanlord, Kha-...</td>\n",
       "      <td>Dark Elf</td>\n",
       "      <td>Alive</td>\n",
       "    </tr>\n",
       "  </tbody>\n",
       "</table>\n",
       "</div>"
      ],
      "text/plain": [
       "               name     affiliation   alias  gender  \\\n",
       "1  Isabel Greyhound             nan     nan  Female   \n",
       "0            Raelag  Dragon Knights  Agrael    Male   \n",
       "\n",
       "                last_appearance  \\\n",
       "1  Heroes V: Tribes of the East   \n",
       "0     Heroes V: Hammers of Fate   \n",
       "\n",
       "                                            location  \\\n",
       "1  Holy Griffin Empire, Ygg-Chall, Holy Unicorn E...   \n",
       "0                 Irollan, Tarlad, Sheogh, Ygg-Chall   \n",
       "\n",
       "                                          occupation      race status  \n",
       "1                                     Duchess, Queen     Human  Alive  \n",
       "0   Soulscar Clanlord, Shadowbrand Clanlord, Kha-...  Dark Elf  Alive  "
      ]
     },
     "execution_count": 155,
     "metadata": {},
     "output_type": "execute_result"
    }
   ],
   "source": [
    "#example\n",
    "properties = get_node_properties(['Raelag', 'Isabel Greyhound'])\n",
    "df = pd.DataFrame(properties)\n",
    "df = df.reindex(columns=sorted(df.columns))\n",
    "df = df.reindex(columns=(['name'] + list([a for a in df.columns if a != 'name'])))\n",
    "df.sort_values('name')"
   ]
  },
  {
   "cell_type": "markdown",
   "metadata": {},
   "source": [
    "<h3>Вывести свойства отношений</h3>"
   ]
  },
  {
   "cell_type": "code",
   "execution_count": 33,
   "metadata": {},
   "outputs": [],
   "source": [
    "def print_result(properties):\n",
    "    string = ''\n",
    "    for p in properties:\n",
    "        if p[2]['previous'] != 'nan':\n",
    "            if nltk.pos_tag([p[2]['previous']])[0][1] == 'VBN':\n",
    "                print(string + p[0] + ' ' + p[2]['previous'] + ' ' + p[3]) \n",
    "            elif p[2]['previous'] == 'enemy' or p[2]['previous'] == 'friend':\n",
    "                print(string + p[0] + ' considered ' +  p[3] + ' as the ' + p[2]['previous']) \n",
    "            else:\n",
    "                print(string + p[0] + ' was the ' +  p[2]['previous'] + ' of ' + p[3])                             \n",
    "            \n",
    "            if p[1] == 'enemy' or p[1] == 'friend':\n",
    "                print(string + p[0] + ' considers ' +  p[3] + ' as the ' + p[1])\n",
    "            else:\n",
    "                print(string + p[0] + ' is the ' + p[1] + ' of ' + p[3] + ' since ' + p[2]['since'])\n",
    "        \n",
    "        elif p[2]['previous'] == 'nan' and p[2]['state'] != 'nan':\n",
    "            if nltk.pos_tag([p[1]])[0][1] == 'VBN':\n",
    "                print(string + p[0] + ' ' + p[1] + ' ' + p[3])             \n",
    "            elif p[1] == 'enemy' or p[1] == 'friend':\n",
    "                print(string + p[0] + ' considers ' +  p[3] + ' as the ' + p[1])\n",
    "            else:               \n",
    "                print(string + p[0] + ' is the ' + p[1] + ' of ' + p[3])  \n",
    "            print(string + p[0] + ' is ' + p[2]['state'] + ' with ' + p[3] + ' since ' + p[2]['since'])   \n",
    "        \n",
    "        else:\n",
    "            if nltk.pos_tag([p[1]])[0][1] == 'VBN':\n",
    "                print(string + p[0] + ' ' + p[1] + ' ' + p[3])             \n",
    "            elif p[1] == 'enemy' or p[1] == 'friend':\n",
    "                print(string + p[0] + ' considers ' +  p[3] + ' as the ' + p[1])\n",
    "            else:               \n",
    "                print(string + p[0] + ' is the ' + p[1] + ' of ' + p[3])  "
   ]
  },
  {
   "cell_type": "code",
   "execution_count": 34,
   "metadata": {},
   "outputs": [],
   "source": [
    "def get_relation_properties(names):\n",
    "    properties = []\n",
    "    for k, v in names.items():\n",
    "        res = session.run(\"MATCH (n {name:\" + \"'{}'\".format(k) + \"})-[r]->(m {name:\" +\"'{}'\".format(v) + \"}) RETURN n.name, type(r), properties(r), m.name\")\n",
    "        for r in res:\n",
    "            properties.append([d for d in r])\n",
    "    return print_result(properties)"
   ]
  },
  {
   "cell_type": "code",
   "execution_count": 392,
   "metadata": {},
   "outputs": [
    {
     "name": "stdout",
     "output_type": "stream",
     "text": [
      "Markal raised Nicolai Griffin\n",
      "Markal is the master of Nicolai Griffin since Heroes V\n",
      "Nicolai Griffin is the friend of Findan\n",
      "Nicolai Griffin is at war with Findan since Heroes V\n",
      "Findan is the friend of Zehir\n"
     ]
    }
   ],
   "source": [
    "#example\n",
    "get_relation_properties({'Markal': 'Nicolai Griffin', 'Nicolai Griffin': 'Findan', 'Findan': 'Zehir'})"
   ]
  },
  {
   "cell_type": "markdown",
   "metadata": {},
   "source": [
    "<h3>Вывести тип отношения</h3>"
   ]
  },
  {
   "cell_type": "code",
   "execution_count": 39,
   "metadata": {},
   "outputs": [],
   "source": [
    "def get_relation_type(names):\n",
    "    rel_type = []\n",
    "    for k, v in names.items():\n",
    "        res = session.run(\"MATCH (n {name:\" + \"'{}'\".format(k) + \"})-[r]->(m {name:\" +\"'{}'\".format(v) + \"}) RETURN type(r)\")\n",
    "        for r in res:\n",
    "            rel_type.append([d for d in r])\n",
    "    return rel_type"
   ]
  },
  {
   "cell_type": "code",
   "execution_count": 41,
   "metadata": {},
   "outputs": [
    {
     "data": {
      "text/plain": [
       "'sister'"
      ]
     },
     "execution_count": 41,
     "metadata": {},
     "output_type": "execute_result"
    }
   ],
   "source": [
    "#example\n",
    "get_relation_type({'Asha': 'Urgash'})[0][0]"
   ]
  },
  {
   "cell_type": "markdown",
   "metadata": {},
   "source": [
    "<h3>Вывести узлы по свойствам</h3>"
   ]
  },
  {
   "cell_type": "code",
   "execution_count": 117,
   "metadata": {},
   "outputs": [],
   "source": [
    "def get_node_by_prop(properties={}):\n",
    "    names = []\n",
    "    if 'location' or 'affiliation' or 'occupation' in properties.keys():\n",
    "        if 'location' not in properties.keys():\n",
    "            properties['location'] = '7'     \n",
    "        if  'afiliation' not in properties.keys():\n",
    "            properties['affiliation'] = '7'\n",
    "        if 'occupation' not in properties.keys():   \n",
    "            properties['occupation'] = '7'\n",
    "        \n",
    "        query1 = \"OPTIONAL MATCH (m) WHERE m.name=name AND (m.location CONTAINS '{}' OR m.affilitian CONTAINS '{}' OR m.occupation CONTAINS '{}') RETURN m.name, labels(m)\".format(\n",
    "            properties['location'], properties['affiliation'], properties['occupation'])\n",
    "    \n",
    "        #удалить ключи, использованные в первом запросе\n",
    "        properties.pop('location', None) and properties.pop('affiliation', None) and properties.pop('occupation', None)\n",
    "        \n",
    "        query2 = \"MATCH (n {}) WITH n.name as name\".format(convert_properties(properties))   \n",
    "        \n",
    "        query = query2 + ' ' + query1 \n",
    "        \n",
    "    else:\n",
    "        query = \"MATCH (n {}) RETURN n.name, labels(n)\".format(convert_properties(properties))  \n",
    "    \n",
    "    res = session.run(query)\n",
    "    \n",
    "    for r in res:  \n",
    "        names.append([n for n in r])\n",
    "    \n",
    "    return names"
   ]
  },
  {
   "cell_type": "code",
   "execution_count": 118,
   "metadata": {},
   "outputs": [],
   "source": [
    "#example\n",
    "names = get_node_by_prop({'race': 'Dark Elf', 'location':'Tarlad'})"
   ]
  },
  {
   "cell_type": "code",
   "execution_count": 149,
   "metadata": {},
   "outputs": [
    {
     "name": "stdout",
     "output_type": "stream",
     "text": [
      "['Eruina', ['Dungeon']]\n",
      "['Malwen', ['Dungeon']]\n",
      "['Menan', ['Dungeon']]\n",
      "['Raelag', ['Dungeon']]\n",
      "['Salvin', ['Dungeon']]\n",
      "['Sylsai', ['Dungeon']]\n",
      "['Tuidhana', ['Dungeon']]\n",
      "['Vayaron', ['Dungeon']]\n"
     ]
    }
   ],
   "source": [
    "for name in names:\n",
    "    if name[0] != None:\n",
    "        print(name)"
   ]
  },
  {
   "cell_type": "markdown",
   "metadata": {},
   "source": [
    "<h3>Вывести узлы по типу отношений</h3>"
   ]
  },
  {
   "cell_type": "code",
   "execution_count": 153,
   "metadata": {},
   "outputs": [],
   "source": [
    "def get_nodes_by_rel(rel):\n",
    "    relation = []\n",
    "    query = \"MATCH (n)-[r:{}]->(m) RETURN n.name, type(r), m.name\".format(rel)\n",
    "    res = session.run(query)\n",
    "    for r in res:\n",
    "        relation.append([i for i in r])\n",
    "    \n",
    "    return relation"
   ]
  },
  {
   "cell_type": "code",
   "execution_count": 155,
   "metadata": {},
   "outputs": [],
   "source": [
    "#example\n",
    "relation = get_nodes_by_rel('killed')"
   ]
  },
  {
   "cell_type": "code",
   "execution_count": 167,
   "metadata": {},
   "outputs": [
    {
     "name": "stdout",
     "output_type": "stream",
     "text": [
      "Aidan Unicorn killed Azexes\n",
      "Alaric killed Khengi\n",
      "Alaric killed Quroq\n",
      "Alejandro De La Segadora killed Ovidio Bull\n",
      "Anastasya Griffin killed Miranda\n"
     ]
    }
   ],
   "source": [
    "for r in sorted(relation)[:5]:\n",
    "    print(r[0] + ' ' + r[1] + ' ' + r[2])"
   ]
  },
  {
   "cell_type": "markdown",
   "metadata": {},
   "source": [
    "<h3>Изменить статус убитого персонажа</h3> \n",
    "('Slain' - для демонов, 'Dead' - для всех остальных)"
   ]
  },
  {
   "cell_type": "code",
   "execution_count": 28,
   "metadata": {},
   "outputs": [],
   "source": [
    "def change_status(names={}, properties={}):\n",
    "    #previous relation\n",
    "    then = get_relation_properties(names)\n",
    "    \n",
    "    #delete previous relation\n",
    "    for k, v in names.items():\n",
    "        query1 = \"MATCH (n {name:\" + \"'{}'\".format(k) + \"})-[r]->(m {name:\" + \"'{}'\".format(v) + \"}) DELETE r\"\n",
    "        session.run(query1)\n",
    "    \n",
    "    #create new relation\n",
    "    add_relations('killed', names, properties)\n",
    "    \n",
    "    #change status\n",
    "    for k, v in names.items():\n",
    "        query2 = \"MATCH (n) WHERE n.name='{}' with n, CASE WHEN n.race IN ['Succubus', 'Incubus', 'Demon'] THEN ['Slain'] ELSE ['Dead'] END AS status FOREACH (_ IN status | SET n.status = status)\".format(v)\n",
    "        session.run(query2)\n",
    "    \n",
    "    #new relation\n",
    "    now = get_relation_properties(names)   \n",
    "     \n",
    "    #show new status\n",
    "    status = []\n",
    "    for k, v in names.items():    \n",
    "        query3 = \"MATCH (n) WHERE n.name='{}' RETURN n.name, n.status\".format(v)\n",
    "        res = session.run(query3)\n",
    "        for r in res:\n",
    "            status.append([d for d in r])\n",
    "        \n",
    "    print(str(then)) \n",
    "    print(str(now))\n",
    "    return status"
   ]
  },
  {
   "cell_type": "code",
   "execution_count": 37,
   "metadata": {},
   "outputs": [
    {
     "name": "stdout",
     "output_type": "stream",
     "text": [
      "Isabel Greyhound considers Biara as the enemy\n",
      "Successfully created: ['Isabel Greyhound', <Relationship id=5344 nodes=(<Node id=183 labels=set() properties={}>, <Node id=85 labels=set() properties={}>) type='killed' properties={'previous': 'nan', 'state': 'nan', 'since': 'nan'}>, 'Biara']\n",
      "Isabel Greyhound killed Biara\n",
      "None\n",
      "None\n"
     ]
    }
   ],
   "source": [
    "status = change_status({'Isabel Greyhound': 'Biara'}, {'state': 'nan', 'since': 'nan', 'previous': 'nan'})"
   ]
  },
  {
   "cell_type": "code",
   "execution_count": 38,
   "metadata": {},
   "outputs": [
    {
     "data": {
      "text/plain": [
       "[['Biara', ['Slain']]]"
      ]
     },
     "execution_count": 38,
     "metadata": {},
     "output_type": "execute_result"
    }
   ],
   "source": [
    "#проверка\n",
    "status"
   ]
  },
  {
   "cell_type": "code",
   "execution_count": 30,
   "metadata": {},
   "outputs": [
    {
     "data": {
      "text/plain": [
       "'killed'"
      ]
     },
     "execution_count": 30,
     "metadata": {},
     "output_type": "execute_result"
    }
   ],
   "source": [
    "#проверка\n",
    "get_relation_type({'Isabel Greyhound': 'Biara'})[0][0]"
   ]
  },
  {
   "cell_type": "markdown",
   "metadata": {},
   "source": [
    "# Analysis"
   ]
  },
  {
   "cell_type": "markdown",
   "metadata": {},
   "source": [
    "<h3>Подсчитать количество отношений определённого типа для отдельных узлов</h3>"
   ]
  },
  {
   "cell_type": "code",
   "execution_count": 453,
   "metadata": {},
   "outputs": [],
   "source": [
    "def as_dataframe(results):\n",
    "    names = []\n",
    "    rel = []\n",
    "    count = []\n",
    "    for el in results:\n",
    "        names.append(el[0])\n",
    "        rel.append(el[1])\n",
    "        count.append(el[2])    \n",
    "    d = {'Name': names, 'Relation': rel, 'Total': count}   \n",
    "    \n",
    "    print(pd.DataFrame(d))"
   ]
  },
  {
   "cell_type": "code",
   "execution_count": 454,
   "metadata": {},
   "outputs": [],
   "source": [
    "def count_relations(names, rel):\n",
    "    results = []\n",
    "    for name in names:\n",
    "        query = \"MATCH (n {name:\" + \"'{}'\".format(name) + \"})\" + \"-[r:{}]-() RETURN n.name, type(r), count(r) as rel_count order by rel_count desc\".format(rel)\n",
    "        res = session.run(query)\n",
    "        for r in res:\n",
    "            d = [d for d in r]\n",
    "            results.append(d)\n",
    "    \n",
    "    return as_dataframe(results)"
   ]
  },
  {
   "cell_type": "code",
   "execution_count": 456,
   "metadata": {},
   "outputs": [
    {
     "name": "stdout",
     "output_type": "stream",
     "text": [
      "           Name Relation  Total\n",
      "0        Raelag    enemy     18\n",
      "1  Deirdre Stag    enemy      2\n",
      "2    Kha-Beleth    enemy     21\n"
     ]
    }
   ],
   "source": [
    "#example\n",
    "count_relations(['Raelag', 'Deirdre Stag', 'Kha-Beleth'], 'enemy')"
   ]
  },
  {
   "cell_type": "markdown",
   "metadata": {},
   "source": [
    "<h3>Shortest path</h3>"
   ]
  },
  {
   "cell_type": "code",
   "execution_count": 109,
   "metadata": {},
   "outputs": [],
   "source": [
    "def shortest_path(names):\n",
    "    results= []\n",
    "    for k, v in names.items():\n",
    "        query = \"MATCH p=shortestPath( (n{name:\" + \"'{}'\".format(k) + \"}) - [*..] - (m{name:\" + \"'{}'\".format(v) + \"}) ) RETURN p\"\n",
    "        res = session.run(query)\n",
    "        for r in res:\n",
    "            results.append([i for i in r])    \n",
    "    return results       "
   ]
  },
  {
   "cell_type": "code",
   "execution_count": 110,
   "metadata": {},
   "outputs": [],
   "source": [
    "#example\n",
    "shortest_path({'Freyda Unicorn': 'Ciele'})"
   ]
  },
  {
   "attachments": {},
   "cell_type": "markdown",
   "metadata": {},
   "source": [
    "<img src=\"images/path.jpg\">"
   ]
  },
  {
   "cell_type": "markdown",
   "metadata": {},
   "source": [
    "<h3>All shortest paths</h3>"
   ]
  },
  {
   "cell_type": "code",
   "execution_count": 97,
   "metadata": {},
   "outputs": [],
   "source": [
    "def all_shortest_paths(names={}):\n",
    "    results= []\n",
    "    for k, v in names.items():\n",
    "        query = \"MATCH p=allShortestPaths( (n{name:\" + \"'{}'\".format(k) + \"}) - [*..] - (m{name:\" + \"'{}'\".format(v) + \"}) ) RETURN n.name, count(p), m.name\"\n",
    "        res = session.run(query)\n",
    "        for r in res:\n",
    "            results.append([i for i in r])    \n",
    "    return results"
   ]
  },
  {
   "cell_type": "code",
   "execution_count": 99,
   "metadata": {},
   "outputs": [],
   "source": [
    "#example\n",
    "names = {'Kha-Beleth': 'Asha', 'Alejandro De La Segadora': 'Asha'}\n",
    "results = shortest_paths(names)"
   ]
  },
  {
   "cell_type": "code",
   "execution_count": 103,
   "metadata": {},
   "outputs": [],
   "source": [
    "df = pd.DataFrame(results, columns=['Name1', 'All Shortest Paths', 'Name2'])\n",
    "df = df.sort_values('All Shortest Paths', ascending=False)"
   ]
  },
  {
   "cell_type": "code",
   "execution_count": 104,
   "metadata": {},
   "outputs": [
    {
     "data": {
      "text/html": [
       "<div>\n",
       "<style scoped>\n",
       "    .dataframe tbody tr th:only-of-type {\n",
       "        vertical-align: middle;\n",
       "    }\n",
       "\n",
       "    .dataframe tbody tr th {\n",
       "        vertical-align: top;\n",
       "    }\n",
       "\n",
       "    .dataframe thead th {\n",
       "        text-align: right;\n",
       "    }\n",
       "</style>\n",
       "<table border=\"1\" class=\"dataframe\">\n",
       "  <thead>\n",
       "    <tr style=\"text-align: right;\">\n",
       "      <th></th>\n",
       "      <th>Name1</th>\n",
       "      <th>All Shortest Paths</th>\n",
       "      <th>Name2</th>\n",
       "    </tr>\n",
       "  </thead>\n",
       "  <tbody>\n",
       "    <tr>\n",
       "      <th>0</th>\n",
       "      <td>Kha-Beleth</td>\n",
       "      <td>8</td>\n",
       "      <td>Asha</td>\n",
       "    </tr>\n",
       "    <tr>\n",
       "      <th>1</th>\n",
       "      <td>Alejandro De La Segadora</td>\n",
       "      <td>1</td>\n",
       "      <td>Asha</td>\n",
       "    </tr>\n",
       "  </tbody>\n",
       "</table>\n",
       "</div>"
      ],
      "text/plain": [
       "                      Name1  All Shortest Paths Name2\n",
       "0                Kha-Beleth                   8  Asha\n",
       "1  Alejandro De La Segadora                   1  Asha"
      ]
     },
     "execution_count": 104,
     "metadata": {},
     "output_type": "execute_result"
    }
   ],
   "source": [
    "df"
   ]
  },
  {
   "cell_type": "markdown",
   "metadata": {},
   "source": [
    "<h3>Centrality</h3>"
   ]
  },
  {
   "cell_type": "code",
   "execution_count": 35,
   "metadata": {},
   "outputs": [],
   "source": [
    "def centrality_out():\n",
    "    results = []\n",
    "    query = \"MATCH (n)-[r]->() RETURN n.name, COUNT(r), n.status, n.last_appearance\" #LIMIT 10\n",
    "    res = session.run(query)\n",
    "    for r in res:\n",
    "        results.append([n for n in r])\n",
    "    \n",
    "    return results"
   ]
  },
  {
   "cell_type": "code",
   "execution_count": 36,
   "metadata": {},
   "outputs": [],
   "source": [
    "#example\n",
    "results = centrality_out()"
   ]
  },
  {
   "cell_type": "code",
   "execution_count": 39,
   "metadata": {},
   "outputs": [],
   "source": [
    "df = pd.DataFrame(results, columns=['Name', 'Outcoming Relations', 'Status', 'Last Appearance'])\n",
    "df = df.sort_values('Outcoming Relations', ascending=False)"
   ]
  },
  {
   "cell_type": "code",
   "execution_count": 40,
   "metadata": {},
   "outputs": [
    {
     "data": {
      "text/html": [
       "<div>\n",
       "<style scoped>\n",
       "    .dataframe tbody tr th:only-of-type {\n",
       "        vertical-align: middle;\n",
       "    }\n",
       "\n",
       "    .dataframe tbody tr th {\n",
       "        vertical-align: top;\n",
       "    }\n",
       "\n",
       "    .dataframe thead th {\n",
       "        text-align: right;\n",
       "    }\n",
       "</style>\n",
       "<table border=\"1\" class=\"dataframe\">\n",
       "  <thead>\n",
       "    <tr style=\"text-align: right;\">\n",
       "      <th></th>\n",
       "      <th>Name</th>\n",
       "      <th>Outcoming Relations</th>\n",
       "      <th>Status</th>\n",
       "      <th>Last Appearance</th>\n",
       "    </tr>\n",
       "  </thead>\n",
       "  <tbody>\n",
       "    <tr>\n",
       "      <th>47</th>\n",
       "      <td>Raelag</td>\n",
       "      <td>44</td>\n",
       "      <td>Alive</td>\n",
       "      <td>Heroes V: Hammers of Fate</td>\n",
       "    </tr>\n",
       "    <tr>\n",
       "      <th>0</th>\n",
       "      <td>Sandor Griffin</td>\n",
       "      <td>30</td>\n",
       "      <td>Alive</td>\n",
       "      <td>Might&amp;Magic X: Legacy</td>\n",
       "    </tr>\n",
       "    <tr>\n",
       "      <th>13</th>\n",
       "      <td>Anton Griffin</td>\n",
       "      <td>30</td>\n",
       "      <td>Alive</td>\n",
       "      <td>Might&amp;Magic X: Legacy</td>\n",
       "    </tr>\n",
       "    <tr>\n",
       "      <th>63</th>\n",
       "      <td>Irina Griffin</td>\n",
       "      <td>29</td>\n",
       "      <td>Alive</td>\n",
       "      <td>Heroes VI</td>\n",
       "    </tr>\n",
       "    <tr>\n",
       "      <th>93</th>\n",
       "      <td>Anastasya Griffin</td>\n",
       "      <td>25</td>\n",
       "      <td>Alive</td>\n",
       "      <td>Heroes VII</td>\n",
       "    </tr>\n",
       "  </tbody>\n",
       "</table>\n",
       "</div>"
      ],
      "text/plain": [
       "                 Name  Outcoming Relations Status            Last Appearance\n",
       "47             Raelag                   44  Alive  Heroes V: Hammers of Fate\n",
       "0      Sandor Griffin                   30  Alive      Might&Magic X: Legacy\n",
       "13      Anton Griffin                   30  Alive      Might&Magic X: Legacy\n",
       "63      Irina Griffin                   29  Alive                  Heroes VI\n",
       "93  Anastasya Griffin                   25  Alive                 Heroes VII"
      ]
     },
     "execution_count": 40,
     "metadata": {},
     "output_type": "execute_result"
    }
   ],
   "source": [
    "df.head() #статус указывался на момент последнего появления"
   ]
  },
  {
   "cell_type": "code",
   "execution_count": 41,
   "metadata": {},
   "outputs": [],
   "source": [
    "def centrality_in():\n",
    "    results = []\n",
    "    query = \"MATCH (n)<-[r]-() RETURN n.name, COUNT(r), n.status, n.last_appearance\" #LIMIT 10\n",
    "    res = session.run(query)\n",
    "    for r in res:\n",
    "        results.append([n for n in r])\n",
    "    \n",
    "    return results"
   ]
  },
  {
   "cell_type": "code",
   "execution_count": 43,
   "metadata": {},
   "outputs": [],
   "source": [
    "results = centrality_in()"
   ]
  },
  {
   "cell_type": "code",
   "execution_count": 44,
   "metadata": {},
   "outputs": [],
   "source": [
    "df = pd.DataFrame(results, columns=['Name', 'Incoming Relations', 'Status', 'Last Appearance'])\n",
    "df = df.sort_values('Incoming Relations', ascending=False)"
   ]
  },
  {
   "cell_type": "code",
   "execution_count": 45,
   "metadata": {},
   "outputs": [
    {
     "data": {
      "text/html": [
       "<div>\n",
       "<style scoped>\n",
       "    .dataframe tbody tr th:only-of-type {\n",
       "        vertical-align: middle;\n",
       "    }\n",
       "\n",
       "    .dataframe tbody tr th {\n",
       "        vertical-align: top;\n",
       "    }\n",
       "\n",
       "    .dataframe thead th {\n",
       "        text-align: right;\n",
       "    }\n",
       "</style>\n",
       "<table border=\"1\" class=\"dataframe\">\n",
       "  <thead>\n",
       "    <tr style=\"text-align: right;\">\n",
       "      <th></th>\n",
       "      <th>Name</th>\n",
       "      <th>Incoming Relations</th>\n",
       "      <th>Status</th>\n",
       "      <th>Last Appearance</th>\n",
       "    </tr>\n",
       "  </thead>\n",
       "  <tbody>\n",
       "    <tr>\n",
       "      <th>135</th>\n",
       "      <td>Raelag</td>\n",
       "      <td>44</td>\n",
       "      <td>Alive</td>\n",
       "      <td>Heroes V: Hammers of Fate</td>\n",
       "    </tr>\n",
       "    <tr>\n",
       "      <th>64</th>\n",
       "      <td>Irina Griffin</td>\n",
       "      <td>29</td>\n",
       "      <td>Alive</td>\n",
       "      <td>Heroes VI</td>\n",
       "    </tr>\n",
       "    <tr>\n",
       "      <th>0</th>\n",
       "      <td>Sandor Griffin</td>\n",
       "      <td>28</td>\n",
       "      <td>Alive</td>\n",
       "      <td>Might&amp;Magic X: Legacy</td>\n",
       "    </tr>\n",
       "    <tr>\n",
       "      <th>11</th>\n",
       "      <td>Anton Griffin</td>\n",
       "      <td>26</td>\n",
       "      <td>Alive</td>\n",
       "      <td>Might&amp;Magic X: Legacy</td>\n",
       "    </tr>\n",
       "    <tr>\n",
       "      <th>65</th>\n",
       "      <td>Ivan Griffin</td>\n",
       "      <td>25</td>\n",
       "      <td>Dead</td>\n",
       "      <td>Heroes VII</td>\n",
       "    </tr>\n",
       "  </tbody>\n",
       "</table>\n",
       "</div>"
      ],
      "text/plain": [
       "               Name  Incoming Relations Status            Last Appearance\n",
       "135          Raelag                  44  Alive  Heroes V: Hammers of Fate\n",
       "64    Irina Griffin                  29  Alive                  Heroes VI\n",
       "0    Sandor Griffin                  28  Alive      Might&Magic X: Legacy\n",
       "11    Anton Griffin                  26  Alive      Might&Magic X: Legacy\n",
       "65     Ivan Griffin                  25   Dead                 Heroes VII"
      ]
     },
     "execution_count": 45,
     "metadata": {},
     "output_type": "execute_result"
    }
   ],
   "source": [
    "df.head()"
   ]
  },
  {
   "cell_type": "code",
   "execution_count": 48,
   "metadata": {},
   "outputs": [],
   "source": [
    "def centrality_total():\n",
    "    results = []\n",
    "    query = \"MATCH (n)-[r]-() RETURN n.name, COUNT(r), n.status, n.last_appearance\" #LIMIT 10\n",
    "    res = session.run(query)\n",
    "    for r in res:\n",
    "        results.append([n for n in r])\n",
    "    \n",
    "    return results"
   ]
  },
  {
   "cell_type": "code",
   "execution_count": 49,
   "metadata": {},
   "outputs": [],
   "source": [
    "results = centrality_total()"
   ]
  },
  {
   "cell_type": "code",
   "execution_count": 50,
   "metadata": {},
   "outputs": [],
   "source": [
    "df = pd.DataFrame(results, columns=['Name', 'Relations Total', 'Status', 'Last Appearance'])\n",
    "df = df.sort_values('Relations Total', ascending=False)"
   ]
  },
  {
   "cell_type": "code",
   "execution_count": 51,
   "metadata": {},
   "outputs": [
    {
     "data": {
      "text/html": [
       "<div>\n",
       "<style scoped>\n",
       "    .dataframe tbody tr th:only-of-type {\n",
       "        vertical-align: middle;\n",
       "    }\n",
       "\n",
       "    .dataframe tbody tr th {\n",
       "        vertical-align: top;\n",
       "    }\n",
       "\n",
       "    .dataframe thead th {\n",
       "        text-align: right;\n",
       "    }\n",
       "</style>\n",
       "<table border=\"1\" class=\"dataframe\">\n",
       "  <thead>\n",
       "    <tr style=\"text-align: right;\">\n",
       "      <th></th>\n",
       "      <th>Name</th>\n",
       "      <th>Relations Total</th>\n",
       "      <th>Status</th>\n",
       "      <th>Last Appearance</th>\n",
       "    </tr>\n",
       "  </thead>\n",
       "  <tbody>\n",
       "    <tr>\n",
       "      <th>49</th>\n",
       "      <td>Raelag</td>\n",
       "      <td>88</td>\n",
       "      <td>Alive</td>\n",
       "      <td>Heroes V: Hammers of Fate</td>\n",
       "    </tr>\n",
       "    <tr>\n",
       "      <th>0</th>\n",
       "      <td>Sandor Griffin</td>\n",
       "      <td>58</td>\n",
       "      <td>Alive</td>\n",
       "      <td>Might&amp;Magic X: Legacy</td>\n",
       "    </tr>\n",
       "    <tr>\n",
       "      <th>65</th>\n",
       "      <td>Irina Griffin</td>\n",
       "      <td>58</td>\n",
       "      <td>Alive</td>\n",
       "      <td>Heroes VI</td>\n",
       "    </tr>\n",
       "    <tr>\n",
       "      <th>13</th>\n",
       "      <td>Anton Griffin</td>\n",
       "      <td>56</td>\n",
       "      <td>Alive</td>\n",
       "      <td>Might&amp;Magic X: Legacy</td>\n",
       "    </tr>\n",
       "    <tr>\n",
       "      <th>67</th>\n",
       "      <td>Ivan Griffin</td>\n",
       "      <td>48</td>\n",
       "      <td>Dead</td>\n",
       "      <td>Heroes VII</td>\n",
       "    </tr>\n",
       "  </tbody>\n",
       "</table>\n",
       "</div>"
      ],
      "text/plain": [
       "              Name  Relations Total Status            Last Appearance\n",
       "49          Raelag               88  Alive  Heroes V: Hammers of Fate\n",
       "0   Sandor Griffin               58  Alive      Might&Magic X: Legacy\n",
       "65   Irina Griffin               58  Alive                  Heroes VI\n",
       "13   Anton Griffin               56  Alive      Might&Magic X: Legacy\n",
       "67    Ivan Griffin               48   Dead                 Heroes VII"
      ]
     },
     "execution_count": 51,
     "metadata": {},
     "output_type": "execute_result"
    }
   ],
   "source": [
    "df.head()"
   ]
  },
  {
   "cell_type": "markdown",
   "metadata": {},
   "source": [
    "<h3>Closeness</h3>"
   ]
  },
  {
   "cell_type": "code",
   "execution_count": 112,
   "metadata": {},
   "outputs": [],
   "source": [
    "def closeness():\n",
    "    results = []\n",
    "    query = \" CALL algo.closeness.stream('MATCH (n) RETURN id(n) AS id', 'MATCH (n)-[r]->(m) RETURN id(n) AS source, id(m) AS target', {graph: 'cypher', direction: 'OUTGOING'}) YIELD nodeId, centrality RETURN algo.asNode(nodeId).name AS node, centrality ORDER BY centrality DESC;\"\n",
    "    res = session.run(query)\n",
    "    for r in res:\n",
    "        results.append([n for n in r])\n",
    "    return results"
   ]
  },
  {
   "cell_type": "code",
   "execution_count": 113,
   "metadata": {},
   "outputs": [],
   "source": [
    "results = closeness()"
   ]
  },
  {
   "cell_type": "code",
   "execution_count": 118,
   "metadata": {},
   "outputs": [],
   "source": [
    "df = pd.DataFrame(results, columns=['Name', 'Closeness'])"
   ]
  },
  {
   "cell_type": "code",
   "execution_count": 119,
   "metadata": {},
   "outputs": [
    {
     "data": {
      "text/html": [
       "<div>\n",
       "<style scoped>\n",
       "    .dataframe tbody tr th:only-of-type {\n",
       "        vertical-align: middle;\n",
       "    }\n",
       "\n",
       "    .dataframe tbody tr th {\n",
       "        vertical-align: top;\n",
       "    }\n",
       "\n",
       "    .dataframe thead th {\n",
       "        text-align: right;\n",
       "    }\n",
       "</style>\n",
       "<table border=\"1\" class=\"dataframe\">\n",
       "  <thead>\n",
       "    <tr style=\"text-align: right;\">\n",
       "      <th></th>\n",
       "      <th>Name</th>\n",
       "      <th>Closeness</th>\n",
       "    </tr>\n",
       "  </thead>\n",
       "  <tbody>\n",
       "    <tr>\n",
       "      <th>100</th>\n",
       "      <td>Vayaron</td>\n",
       "      <td>0.289559</td>\n",
       "    </tr>\n",
       "    <tr>\n",
       "      <th>101</th>\n",
       "      <td>Brendan Stag</td>\n",
       "      <td>0.289247</td>\n",
       "    </tr>\n",
       "    <tr>\n",
       "      <th>102</th>\n",
       "      <td>Cyrus</td>\n",
       "      <td>0.289247</td>\n",
       "    </tr>\n",
       "    <tr>\n",
       "      <th>103</th>\n",
       "      <td>Fiona Unicorn</td>\n",
       "      <td>0.288937</td>\n",
       "    </tr>\n",
       "    <tr>\n",
       "      <th>104</th>\n",
       "      <td>Jon Morgan</td>\n",
       "      <td>0.288937</td>\n",
       "    </tr>\n",
       "  </tbody>\n",
       "</table>\n",
       "</div>"
      ],
      "text/plain": [
       "              Name  Closeness\n",
       "100        Vayaron   0.289559\n",
       "101   Brendan Stag   0.289247\n",
       "102          Cyrus   0.289247\n",
       "103  Fiona Unicorn   0.288937\n",
       "104     Jon Morgan   0.288937"
      ]
     },
     "execution_count": 119,
     "metadata": {},
     "output_type": "execute_result"
    }
   ],
   "source": [
    "df[100:].head()"
   ]
  },
  {
   "cell_type": "markdown",
   "metadata": {},
   "source": [
    "To be continued..."
   ]
  },
  {
   "cell_type": "code",
   "execution_count": 136,
   "metadata": {},
   "outputs": [],
   "source": [
    "#закрыть сессию\n",
    "session.close()"
   ]
  },
  {
   "cell_type": "code",
   "execution_count": 137,
   "metadata": {},
   "outputs": [
    {
     "data": {
      "text/plain": [
       "True"
      ]
     },
     "execution_count": 137,
     "metadata": {},
     "output_type": "execute_result"
    }
   ],
   "source": [
    "session.closed()"
   ]
  },
  {
   "cell_type": "code",
   "execution_count": 168,
   "metadata": {},
   "outputs": [
    {
     "data": {
      "text/plain": [
       "<neo4j.BoltStatementResult at 0x26fc316bf60>"
      ]
     },
     "execution_count": 168,
     "metadata": {},
     "output_type": "execute_result"
    }
   ],
   "source": [
    "#!WARNING!удалить весь граф\n",
    "#session.run('MATCH (n)-[r]-() DELETE n,r')"
   ]
  }
 ],
 "metadata": {
  "kernelspec": {
   "display_name": "Python 3",
   "language": "python3",
   "name": "python3"
  },
  "language_info": {
   "codemirror_mode": {
    "name": "ipython",
    "version": 3
   },
   "file_extension": ".py",
   "mimetype": "text/x-python",
   "name": "python",
   "nbconvert_exporter": "python",
   "pygments_lexer": "ipython3",
   "version": "3.6.5"
  }
 },
 "nbformat": 4,
 "nbformat_minor": 2
}
